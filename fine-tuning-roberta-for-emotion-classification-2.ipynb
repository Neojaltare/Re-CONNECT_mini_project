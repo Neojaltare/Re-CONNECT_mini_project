{
 "cells": [
  {
   "cell_type": "markdown",
   "metadata": {},
   "source": [
    "<center>\n",
    "\n",
    "# **Fine-tuning RoBERTa for Emotion Classification on MELD**\n",
    "\n",
    "## In this notebook, I fine-tune a pretrained RoBERTa model to perform emotion classification on the MELD dataset.\n",
    "# MELD (https://affective-meld.github.io) contains short, context-rich dialogues labeled with fine-grained emotion categories. Many utterances are only a few words long, and the conversational structure includes multiple speakers. The data also includes audio and videos that accompany the utterances, but only the text is used in this notebook. Finetuning on a multimodal dataset might have required far more compute. \n",
    "# The model is trained using a standard cross-entropy loss, and a learning rate scheduler is used to improve optimization. \n",
    "## I monitor batch-wise and epoch-wise training and validation performance, and save the best model based on validation loss.\n",
    "\n",
    "</center>"
   ]
  },
  {
   "cell_type": "code",
   "execution_count": 1,
   "metadata": {
    "execution": {
     "iopub.execute_input": "2025-06-22T12:26:14.132306Z",
     "iopub.status.busy": "2025-06-22T12:26:14.132090Z",
     "iopub.status.idle": "2025-06-22T12:26:14.136834Z",
     "shell.execute_reply": "2025-06-22T12:26:14.136124Z",
     "shell.execute_reply.started": "2025-06-22T12:26:14.132287Z"
    },
    "trusted": true
   },
   "outputs": [],
   "source": [
    "import pickle\n",
    "import pandas as pd\n",
    "import numpy as np\n",
    "import matplotlib.pyplot as plt\n",
    "import seaborn as sns\n",
    "import os\n",
    "from transformers import RobertaTokenizer, RobertaModel\n",
    "from datasets import Dataset\n",
    "import torch\n",
    "import torch.nn as nn\n",
    "from tqdm import tqdm\n",
    "import tarfile\n",
    "import os\n",
    "# import warnings\n",
    "# warnings.filterwarnings('ignore')"
   ]
  },
  {
   "cell_type": "markdown",
   "metadata": {},
   "source": [
    "<center>\n",
    "\n",
    "# **Loading the MELD Dataset**\n",
    "## MELD (Multimodal EmotionLines Dataset) is a richly annotated dataset of multiparty conversations extracted from the TV series *Friends*. \n",
    "# It contains utterance-level emotion labels for each speaker turn in a dialogue.\n",
    "## The version used here contains only the text and emotion labels. Each dialogue is relatively short, and many utterances are just a few words long, making it a challenging dataset for contextual emotion classification. You can see what the data looks like from the first few rown of the dataframe printed in this cell.\n",
    "\n",
    "\n",
    "</center>"
   ]
  },
  {
   "cell_type": "code",
   "execution_count": 2,
   "metadata": {
    "execution": {
     "iopub.execute_input": "2025-06-22T12:26:14.138555Z",
     "iopub.status.busy": "2025-06-22T12:26:14.138265Z",
     "iopub.status.idle": "2025-06-22T12:26:14.389699Z",
     "shell.execute_reply": "2025-06-22T12:26:14.389072Z",
     "shell.execute_reply.started": "2025-06-22T12:26:14.138530Z"
    },
    "trusted": true
   },
   "outputs": [
    {
     "name": "stdout",
     "output_type": "stream",
     "text": [
      "Index(['Sr No.', 'Utterance', 'Speaker', 'Emotion', 'Sentiment', 'Dialogue_ID',\n",
      "       'Utterance_ID', 'Season', 'Episode', 'StartTime', 'EndTime'],\n",
      "      dtype='object')\n"
     ]
    },
    {
     "data": {
      "text/html": [
       "<div>\n",
       "<style scoped>\n",
       "    .dataframe tbody tr th:only-of-type {\n",
       "        vertical-align: middle;\n",
       "    }\n",
       "\n",
       "    .dataframe tbody tr th {\n",
       "        vertical-align: top;\n",
       "    }\n",
       "\n",
       "    .dataframe thead th {\n",
       "        text-align: right;\n",
       "    }\n",
       "</style>\n",
       "<table border=\"1\" class=\"dataframe\">\n",
       "  <thead>\n",
       "    <tr style=\"text-align: right;\">\n",
       "      <th></th>\n",
       "      <th>Sr No.</th>\n",
       "      <th>Utterance</th>\n",
       "      <th>Speaker</th>\n",
       "      <th>Emotion</th>\n",
       "      <th>Sentiment</th>\n",
       "      <th>Dialogue_ID</th>\n",
       "      <th>Utterance_ID</th>\n",
       "      <th>Season</th>\n",
       "      <th>Episode</th>\n",
       "      <th>StartTime</th>\n",
       "      <th>EndTime</th>\n",
       "    </tr>\n",
       "  </thead>\n",
       "  <tbody>\n",
       "    <tr>\n",
       "      <th>0</th>\n",
       "      <td>1</td>\n",
       "      <td>also I was the point person on my companys tr...</td>\n",
       "      <td>Chandler</td>\n",
       "      <td>neutral</td>\n",
       "      <td>neutral</td>\n",
       "      <td>0</td>\n",
       "      <td>0</td>\n",
       "      <td>8</td>\n",
       "      <td>21</td>\n",
       "      <td>00:16:16,059</td>\n",
       "      <td>00:16:21,731</td>\n",
       "    </tr>\n",
       "    <tr>\n",
       "      <th>1</th>\n",
       "      <td>2</td>\n",
       "      <td>You mustve had your hands full.</td>\n",
       "      <td>The Interviewer</td>\n",
       "      <td>neutral</td>\n",
       "      <td>neutral</td>\n",
       "      <td>0</td>\n",
       "      <td>1</td>\n",
       "      <td>8</td>\n",
       "      <td>21</td>\n",
       "      <td>00:16:21,940</td>\n",
       "      <td>00:16:23,442</td>\n",
       "    </tr>\n",
       "    <tr>\n",
       "      <th>2</th>\n",
       "      <td>3</td>\n",
       "      <td>That I did. That I did.</td>\n",
       "      <td>Chandler</td>\n",
       "      <td>neutral</td>\n",
       "      <td>neutral</td>\n",
       "      <td>0</td>\n",
       "      <td>2</td>\n",
       "      <td>8</td>\n",
       "      <td>21</td>\n",
       "      <td>00:16:23,442</td>\n",
       "      <td>00:16:26,389</td>\n",
       "    </tr>\n",
       "    <tr>\n",
       "      <th>3</th>\n",
       "      <td>4</td>\n",
       "      <td>So lets talk a little bit about your duties.</td>\n",
       "      <td>The Interviewer</td>\n",
       "      <td>neutral</td>\n",
       "      <td>neutral</td>\n",
       "      <td>0</td>\n",
       "      <td>3</td>\n",
       "      <td>8</td>\n",
       "      <td>21</td>\n",
       "      <td>00:16:26,820</td>\n",
       "      <td>00:16:29,572</td>\n",
       "    </tr>\n",
       "    <tr>\n",
       "      <th>4</th>\n",
       "      <td>5</td>\n",
       "      <td>My duties?  All right.</td>\n",
       "      <td>Chandler</td>\n",
       "      <td>surprise</td>\n",
       "      <td>positive</td>\n",
       "      <td>0</td>\n",
       "      <td>4</td>\n",
       "      <td>8</td>\n",
       "      <td>21</td>\n",
       "      <td>00:16:34,452</td>\n",
       "      <td>00:16:40,917</td>\n",
       "    </tr>\n",
       "  </tbody>\n",
       "</table>\n",
       "</div>"
      ],
      "text/plain": [
       "   Sr No.                                          Utterance          Speaker  \\\n",
       "0       1  also I was the point person on my companys tr...         Chandler   \n",
       "1       2                   You mustve had your hands full.  The Interviewer   \n",
       "2       3                            That I did. That I did.         Chandler   \n",
       "3       4      So lets talk a little bit about your duties.  The Interviewer   \n",
       "4       5                             My duties?  All right.         Chandler   \n",
       "\n",
       "    Emotion Sentiment  Dialogue_ID  Utterance_ID  Season  Episode  \\\n",
       "0   neutral   neutral            0             0       8       21   \n",
       "1   neutral   neutral            0             1       8       21   \n",
       "2   neutral   neutral            0             2       8       21   \n",
       "3   neutral   neutral            0             3       8       21   \n",
       "4  surprise  positive            0             4       8       21   \n",
       "\n",
       "      StartTime       EndTime  \n",
       "0  00:16:16,059  00:16:21,731  \n",
       "1  00:16:21,940  00:16:23,442  \n",
       "2  00:16:23,442  00:16:26,389  \n",
       "3  00:16:26,820  00:16:29,572  \n",
       "4  00:16:34,452  00:16:40,917  "
      ]
     },
     "execution_count": 2,
     "metadata": {},
     "output_type": "execute_result"
    }
   ],
   "source": [
    "# Load the data\n",
    "base_path = '/kaggle/input/meld-text/All_Meld_Text/'\n",
    "train_df = pd.read_csv(base_path + 'train_sent_emo.csv')\n",
    "dev_df = pd.read_csv(base_path + 'dev_sent_emo.csv')\n",
    "test_df = pd.read_csv(base_path + 'test_sent_emo.csv')\n",
    "\n",
    "print(train_df.columns)\n",
    "train_df.head()"
   ]
  },
  {
   "cell_type": "markdown",
   "metadata": {},
   "source": [
    "<center>\n",
    "\n",
    "# Here I do some basic inspection of the data. This data has already been prepped and labeled with emotion labels. So not much pre-processing is necessary\n",
    "## We can see that we dont have a very long context window here. All the dialogues are relatively short.\n",
    "# Most utterances are short, With some as short as a single word.\n",
    "\n",
    "</center>"
   ]
  },
  {
   "cell_type": "code",
   "execution_count": 3,
   "metadata": {
    "execution": {
     "iopub.execute_input": "2025-06-22T12:26:14.390610Z",
     "iopub.status.busy": "2025-06-22T12:26:14.390329Z",
     "iopub.status.idle": "2025-06-22T12:26:15.817109Z",
     "shell.execute_reply": "2025-06-22T12:26:15.816426Z",
     "shell.execute_reply.started": "2025-06-22T12:26:14.390589Z"
    },
    "trusted": true
   },
   "outputs": [
    {
     "name": "stdout",
     "output_type": "stream",
     "text": [
      "Longest dialogue by utterance count: Dialogue_ID 54 with 24 utterances\n",
      "Longest dialogue by character count: Dialogue_ID 450 with 1566 characters\n"
     ]
    },
    {
     "data": {
      "application/vnd.jupyter.widget-view+json": {
       "model_id": "91981457109747bd9dd954594c4f65ed",
       "version_major": 2,
       "version_minor": 0
      },
      "text/plain": [
       "tokenizer_config.json:   0%|          | 0.00/25.0 [00:00<?, ?B/s]"
      ]
     },
     "metadata": {},
     "output_type": "display_data"
    },
    {
     "data": {
      "application/vnd.jupyter.widget-view+json": {
       "model_id": "85c0931ee7684d74bb9f6f1accd7456c",
       "version_major": 2,
       "version_minor": 0
      },
      "text/plain": [
       "vocab.json:   0%|          | 0.00/899k [00:00<?, ?B/s]"
      ]
     },
     "metadata": {},
     "output_type": "display_data"
    },
    {
     "data": {
      "application/vnd.jupyter.widget-view+json": {
       "model_id": "953fa95b53384773a2b2026a26ba3ee7",
       "version_major": 2,
       "version_minor": 0
      },
      "text/plain": [
       "merges.txt:   0%|          | 0.00/456k [00:00<?, ?B/s]"
      ]
     },
     "metadata": {},
     "output_type": "display_data"
    },
    {
     "data": {
      "application/vnd.jupyter.widget-view+json": {
       "model_id": "7e735849094642d0b25c2bea5d32b64f",
       "version_major": 2,
       "version_minor": 0
      },
      "text/plain": [
       "tokenizer.json:   0%|          | 0.00/1.36M [00:00<?, ?B/s]"
      ]
     },
     "metadata": {},
     "output_type": "display_data"
    },
    {
     "data": {
      "application/vnd.jupyter.widget-view+json": {
       "model_id": "a729191b87eb414eadbcb8fd763f6f9b",
       "version_major": 2,
       "version_minor": 0
      },
      "text/plain": [
       "config.json:   0%|          | 0.00/481 [00:00<?, ?B/s]"
      ]
     },
     "metadata": {},
     "output_type": "display_data"
    },
    {
     "name": "stdout",
     "output_type": "stream",
     "text": [
      "Longest dialogue translates to 369 tokens\n"
     ]
    },
    {
     "data": {
      "image/png": "[encoded data removed]",
      "text/plain": [
       "<Figure size 640x480 with 1 Axes>"
      ]
     },
     "metadata": {},
     "output_type": "display_data"
    },
    {
     "data": {
      "image/png": "[encoded data removed]",
      "text/plain": [
       "<Figure size 640x480 with 1 Axes>"
      ]
     },
     "metadata": {},
     "output_type": "display_data"
    }
   ],
   "source": [
    "\n",
    "grouped = train_df.groupby('Dialogue_ID')\n",
    "\n",
    "# Dialogue with the most utterances\n",
    "dialogue_lengths = grouped.size()\n",
    "max_utterances_id = dialogue_lengths.idxmax()\n",
    "max_utterances_count = dialogue_lengths.max()\n",
    "\n",
    "# Dialogue with the most characters\n",
    "dialogue_char_counts = grouped['Utterance'].apply(lambda x: sum(len(utt) for utt in x))\n",
    "max_chars_id = dialogue_char_counts.idxmax()\n",
    "max_chars_count = dialogue_char_counts.max()\n",
    "\n",
    "print(f\"Longest dialogue by utterance count: Dialogue_ID {max_utterances_id} with {max_utterances_count} utterances\")\n",
    "print(f\"Longest dialogue by character count: Dialogue_ID {max_chars_id} with {max_chars_count} characters\")\n",
    "\n",
    "tokenizer = RobertaTokenizer.from_pretrained('roberta-base')\n",
    "longest = \" \".join(train_df[train_df['Dialogue_ID'] == max_utterances_id]['Utterance'].tolist())\n",
    "tokens = tokenizer.tokenize(longest)\n",
    "print(f'Longest dialogue translates to {len(tokens)} tokens')\n",
    "\n",
    "plt.hist(dialogue_lengths)\n",
    "plt.title('Dialogue Lengths: # of Utterances')\n",
    "plt.show()\n",
    "plt.hist(dialogue_char_counts)\n",
    "plt.title('Dialogue Character Counts')\n",
    "plt.show()"
   ]
  },
  {
   "cell_type": "markdown",
   "metadata": {},
   "source": [
    "## I intend to add additional special tokens to the tokenizer so that the model learns turn taking behaviour (hopefully) which might improve performance. Therefore I am inspecting what the max number of speakers in a dialogue is. "
   ]
  },
  {
   "cell_type": "code",
   "execution_count": 4,
   "metadata": {
    "execution": {
     "iopub.execute_input": "2025-06-22T12:26:15.818199Z",
     "iopub.status.busy": "2025-06-22T12:26:15.817911Z",
     "iopub.status.idle": "2025-06-22T12:26:16.239124Z",
     "shell.execute_reply": "2025-06-22T12:26:16.238512Z",
     "shell.execute_reply.started": "2025-06-22T12:26:15.818171Z"
    },
    "trusted": true
   },
   "outputs": [
    {
     "name": "stdout",
     "output_type": "stream",
     "text": [
      "The max number of speakers in a single dialogue is 9\n"
     ]
    },
    {
     "data": {
      "image/png": "[encoded data removed]",
      "text/plain": [
       "<Figure size 640x480 with 1 Axes>"
      ]
     },
     "metadata": {},
     "output_type": "display_data"
    }
   ],
   "source": [
    "# Check number of speakers in each dialogue\n",
    "num_speakers = []\n",
    "for thisid in train_df['Dialogue_ID'].unique():\n",
    "    this_dialogue = train_df[train_df['Dialogue_ID'] == thisid]\n",
    "    num_speakers.append(len(this_dialogue['Speaker'].unique()))\n",
    "\n",
    "print(f'The max number of speakers in a single dialogue is {np.max(num_speakers)}')\n",
    "plt.hist((num_speakers))\n",
    "plt.show()\n",
    "# So I can add 9 Speaker ID Tokens to the tokenizer"
   ]
  },
  {
   "cell_type": "markdown",
   "metadata": {},
   "source": [
    "### Here I was trying to see if we can augment the data by using another model to paraphrase each utterance first.  This did not work very well. There may be other ways to agument the data to enhance classification performance. I did not persue this further due to time and compute constraints."
   ]
  },
  {
   "cell_type": "code",
   "execution_count": null,
   "metadata": {
    "execution": {
     "iopub.execute_input": "2025-06-22T09:41:07.477812Z",
     "iopub.status.busy": "2025-06-22T09:41:07.477582Z",
     "iopub.status.idle": "2025-06-22T09:41:47.748020Z",
     "shell.execute_reply": "2025-06-22T09:41:47.746557Z",
     "shell.execute_reply.started": "2025-06-22T09:41:07.477789Z"
    },
    "trusted": true
   },
   "outputs": [],
   "source": [
    "# from transformers import pipeline\n",
    "# paraphraser = pipeline(\"text2text-generation\", model=\"Vamsi/T5_Paraphrase_Paws\", device=0)\n",
    "# train_df2 = train_df.copy()\n",
    "# batch_size = 32  # or 64 if memory allows\n",
    "# texts = train_df2['Utterance'].tolist()\n",
    "\n",
    "# augmented_texts = []\n",
    "\n",
    "# for i in tqdm(range(0, len(texts), batch_size)):\n",
    "#     batch = texts[i:i+batch_size]\n",
    "#     batch_to_paraphrase = [t for t in batch if len(t.strip().split()) >= 3]\n",
    "    \n",
    "#     # Paraphrase only the longer ones\n",
    "#     paraphrased = paraphraser(\n",
    "#         [f\"paraphrase: {text} </s>\" for text in batch_to_paraphrase],\n",
    "#         max_length=256,\n",
    "#         num_return_sequences=1,\n",
    "#         do_sample=True\n",
    "#     )\n",
    "\n",
    "#     # Replace paraphrasable ones, leave others unchanged\n",
    "#     idx = 0\n",
    "#     for t in batch:\n",
    "#         if len(t.strip().split()) >= 3:\n",
    "#             augmented_texts.append(paraphrased[idx]['generated_text'])\n",
    "#             idx += 1\n",
    "#         else:\n",
    "#             augmented_texts.append(t)\n",
    "\n",
    "# train_df2['Utterance'] = augmented_texts\n",
    "# train_df2.to_csv('/kaggle/working/augmented_train_df.csv', index=False)"
   ]
  },
  {
   "cell_type": "markdown",
   "metadata": {},
   "source": [
    "<center>\n",
    "\n",
    "## Now we build our training data by adding context progressively to each utterance in a dialogue. For example, we utterance 4 in a dialogue is prepended with utterances 1 to 3 as well. This will hopefully give the model some contextual understanding of the emotions associated with the utterance. \n",
    "## I also define the custom model class and create the special tokens for speakers\n",
    "\n",
    "</center>"
   ]
  },
  {
   "cell_type": "code",
   "execution_count": 5,
   "metadata": {
    "execution": {
     "iopub.execute_input": "2025-06-22T12:27:29.344975Z",
     "iopub.status.busy": "2025-06-22T12:27:29.344161Z",
     "iopub.status.idle": "2025-06-22T12:27:39.021015Z",
     "shell.execute_reply": "2025-06-22T12:27:39.020487Z",
     "shell.execute_reply.started": "2025-06-22T12:27:29.344948Z"
    },
    "trusted": true
   },
   "outputs": [
    {
     "data": {
      "application/vnd.jupyter.widget-view+json": {
       "model_id": "3ef6dc1ae3ab499fa8d2bd19269adf0e",
       "version_major": 2,
       "version_minor": 0
      },
      "text/plain": [
       "model.safetensors:   0%|          | 0.00/499M [00:00<?, ?B/s]"
      ]
     },
     "metadata": {},
     "output_type": "display_data"
    },
    {
     "name": "stderr",
     "output_type": "stream",
     "text": [
      "Some weights of RobertaModel were not initialized from the model checkpoint at roberta-base and are newly initialized: ['pooler.dense.bias', 'pooler.dense.weight']\n",
      "You should probably TRAIN this model on a down-stream task to be able to use it for predictions and inference.\n"
     ]
    },
    {
     "name": "stdout",
     "output_type": "stream",
     "text": [
      "Tokenizer length before adding new tokens = 50265\n",
      "Tokenizer length after adding new tokens = 50274\n"
     ]
    }
   ],
   "source": [
    "# Load the model and tokenizer\n",
    "model = RobertaModel.from_pretrained('roberta-base')\n",
    "tokenizer = RobertaTokenizer.from_pretrained('roberta-base')\n",
    "print(f'Tokenizer length before adding new tokens = {len(tokenizer)}')\n",
    "\n",
    "# Add special tokens for speakers\n",
    "special_speaker_tokens = [f\"<speaker{i}>\" for i in range(1, 10)]  # speaker1 to speaker9\n",
    "tokenizer.add_special_tokens({'additional_special_tokens': special_speaker_tokens}) # Add the new tokens to the tokenizer\n",
    "print(f'Tokenizer length after adding new tokens = {len(tokenizer)}')\n",
    "max_length = tokenizer.model_max_length\n",
    "sep_token = tokenizer.sep_token # This is the separator token for later use\n",
    "\n",
    "def build_dynamic_context_inputs(df):\n",
    "    inputs = []\n",
    "    labels = []\n",
    "\n",
    "    for dialog_id in df['Dialogue_ID'].unique():\n",
    "        dialog = df[df['Dialogue_ID'] == dialog_id].sort_values('Utterance_ID')\n",
    "        utterances = dialog['Utterance'].tolist()\n",
    "        speakers = dialog['Speaker'].tolist()\n",
    "        emotions = dialog['Emotion'].tolist()\n",
    "\n",
    "        # Create speaker mapping for this dialogue\n",
    "        unique_speakers = sorted(set(speakers))\n",
    "        speaker_map = {name: f\"<speaker{i+1}>\" for i, name in enumerate(unique_speakers)}\n",
    "\n",
    "        for idx in range(len(utterances)):\n",
    "            context = []\n",
    "            token_count = 0\n",
    "            \n",
    "            # Start from current utterance and go backward\n",
    "            for i in range(idx, -1, -1):\n",
    "                speaker_tag = speaker_map[speakers[i]]\n",
    "                text_piece = f\"{speaker_tag}: {utterances[i]}\"\n",
    "                tokens = tokenizer.tokenize(text_piece)\n",
    "                token_count += len(tokens) + 1  # +1 for separator\n",
    "\n",
    "                if token_count >= max_length:\n",
    "                    break\n",
    "\n",
    "                context.insert(0, text_piece)  # prepend so order is preserved\n",
    "\n",
    "            input_text = f\" {sep_token} \".join(context)\n",
    "            inputs.append(input_text)\n",
    "            labels.append(emotions[idx])\n",
    "\n",
    "    return inputs, labels\n",
    "\n",
    "train_inputs, train_labels = build_dynamic_context_inputs(train_df)\n",
    "test_inputs, test_labels = build_dynamic_context_inputs(test_df)\n",
    "dev_inputs, dev_labels = build_dynamic_context_inputs(dev_df)"
   ]
  },
  {
   "cell_type": "markdown",
   "metadata": {},
   "source": [
    "<center>\n",
    "\n",
    "## **Model Preparation for Fine-Tuning**\n",
    "## In this step, I prepare the RoBERTa model for emotion classification.\n",
    "\n",
    "#### RoBERTa (A Robustly Optimized BERT Pretraining Approach) is a transformer-based language model developed by Facebook AI (https://arxiv.org/abs/1907.11692). It builds on BERT but improves performance by training longer, on more data, with larger batch sizes, and by removing BERT’s next-sentence prediction objective.\n",
    "\n",
    "#### RoBERTa is pretrained using a masked language modeling (MLM) task: it learns to predict masked-out words in a sentence using the surrounding context. This allows it to learn rich representations of language structure and semantics.\n",
    "\n",
    "## I freeze all pretrained layers initially, then selectively unfreeze the last two transformer layers to allow limited fine-tuning.\n",
    "## A custom classification head is added on top of the CLS token representation to predict one of 7 emotion labels.\n",
    "## The model is then wrapped in a custom PyTorch module to make it ready for training.\n",
    "\n",
    "</center>"
   ]
  },
  {
   "cell_type": "code",
   "execution_count": 6,
   "metadata": {
    "execution": {
     "iopub.execute_input": "2025-06-22T12:27:46.399171Z",
     "iopub.status.busy": "2025-06-22T12:27:46.398818Z",
     "iopub.status.idle": "2025-06-22T12:27:47.218125Z",
     "shell.execute_reply": "2025-06-22T12:27:47.217339Z",
     "shell.execute_reply.started": "2025-06-22T12:27:46.399129Z"
    },
    "trusted": true
   },
   "outputs": [
    {
     "name": "stderr",
     "output_type": "stream",
     "text": [
      "The new embeddings will be initialized from a multivariate normal distribution that has old embeddings' mean and covariance. As described in this article: https://nlp.stanford.edu/~johnhew/vocab-expansion.html. To disable this, use `mean_resizing=False`\n"
     ]
    },
    {
     "data": {
      "text/plain": [
       "Embedding(50274, 768, padding_idx=1)"
      ]
     },
     "execution_count": 6,
     "metadata": {},
     "output_type": "execute_result"
    }
   ],
   "source": [
    "# I am now preparing the model for fine tuning\n",
    "# Freeze all layers first\n",
    "for param in model.parameters():\n",
    "    param.requires_grad = False\n",
    "\n",
    "# Unfreeze only the last 2 transformer layers of the encoder\n",
    "for layer in model.encoder.layer[-2:]:\n",
    "    for param in layer.parameters():\n",
    "        param.requires_grad = True\n",
    "\n",
    "# Define a new classification head\n",
    "class RobertaForEmotionClassification(nn.Module):\n",
    "    def __init__(self, model, num_labels):\n",
    "        super().__init__()\n",
    "        self.roberta = model\n",
    "        self.dropout = nn.Dropout(p=0.1)\n",
    "        self.classifier = nn.Linear(768, num_labels)\n",
    "\n",
    "    def forward(self, input_ids, attention_mask):\n",
    "        outputs = self.roberta(input_ids=input_ids, attention_mask=attention_mask)\n",
    "        cls_output = outputs.last_hidden_state[:, 0, :]  # CLS token\n",
    "        cls_output = self.dropout(cls_output)\n",
    "        return self.classifier(cls_output)\n",
    "\n",
    "# Instantiate our custom model\n",
    "num_labels = len(set(train_labels))  # 7 emotions\n",
    "Full_model = RobertaForEmotionClassification(model, num_labels)\n",
    "Full_model.roberta.resize_token_embeddings(len(tokenizer))"
   ]
  },
  {
   "cell_type": "markdown",
   "metadata": {},
   "source": [
    "<center>\n",
    "\n",
    "### Create the data loaders for the training loop\n",
    "\n",
    "\n",
    "<center>"
   ]
  },
  {
   "cell_type": "code",
   "execution_count": 7,
   "metadata": {
    "execution": {
     "iopub.execute_input": "2025-06-22T12:28:03.748231Z",
     "iopub.status.busy": "2025-06-22T12:28:03.747866Z",
     "iopub.status.idle": "2025-06-22T12:28:19.199215Z",
     "shell.execute_reply": "2025-06-22T12:28:19.198428Z",
     "shell.execute_reply.started": "2025-06-22T12:28:03.748211Z"
    },
    "trusted": true
   },
   "outputs": [
    {
     "data": {
      "application/vnd.jupyter.widget-view+json": {
       "model_id": "ecf6387f5d544418b5020f2bcd7daff3",
       "version_major": 2,
       "version_minor": 0
      },
      "text/plain": [
       "Map:   0%|          | 0/9989 [00:00<?, ? examples/s]"
      ]
     },
     "metadata": {},
     "output_type": "display_data"
    },
    {
     "name": "stdout",
     "output_type": "stream",
     "text": [
      "dict_keys(['label', 'input_ids', 'attention_mask'])\n"
     ]
    },
    {
     "data": {
      "application/vnd.jupyter.widget-view+json": {
       "model_id": "0f485f60dee24566a8c092b2480da450",
       "version_major": 2,
       "version_minor": 0
      },
      "text/plain": [
       "Map:   0%|          | 0/2610 [00:00<?, ? examples/s]"
      ]
     },
     "metadata": {},
     "output_type": "display_data"
    },
    {
     "data": {
      "application/vnd.jupyter.widget-view+json": {
       "model_id": "49f75776ad6e4e87a46678395dd7d35c",
       "version_major": 2,
       "version_minor": 0
      },
      "text/plain": [
       "Map:   0%|          | 0/1109 [00:00<?, ? examples/s]"
      ]
     },
     "metadata": {},
     "output_type": "display_data"
    }
   ],
   "source": [
    "label2id = {label: i for i, label in enumerate(sorted(set(train_labels)))} # Dict that maps each label to an integer\n",
    "encoded_labels = [label2id[label] for label in train_labels]\n",
    "\n",
    "# Now create the dataframe\n",
    "data_dict = {\n",
    "    \"text\": train_inputs,\n",
    "    \"label\": encoded_labels\n",
    "}\n",
    "context_df = pd.DataFrame(data_dict)\n",
    "train_dataset = Dataset.from_pandas(context_df)\n",
    "\n",
    "# Function to tokenize the batch\n",
    "def tokenize_batch(batch):\n",
    "    return tokenizer(batch['text'],\n",
    "                     padding='max_length',\n",
    "                     truncation=True,\n",
    "                     max_length=512,\n",
    "                     return_attention_mask=True)\n",
    "\n",
    "# Apply tokenizer\n",
    "train_tokenized = train_dataset.map(tokenize_batch, batched=True, batch_size=32)\n",
    "train_tokenized.set_format(type='torch', columns=['input_ids', 'attention_mask', 'label'])\n",
    "\n",
    "# Sanity check\n",
    "print(train_tokenized[0].keys())\n",
    "\n",
    "\n",
    "# Now for the test set\n",
    "test_label2id = {label: i for i, label in enumerate(sorted(set(test_labels)))} # Dict that maps each label to an integer\n",
    "test_encoded_labels = [test_label2id[label] for label in test_labels]\n",
    "test_data_dict = {\n",
    "    \"text\": test_inputs,\n",
    "    \"label\": test_encoded_labels\n",
    "}\n",
    "context_df = pd.DataFrame(test_data_dict)\n",
    "test_dataset = Dataset.from_pandas(context_df)\n",
    "test_tokenized = test_dataset.map(tokenize_batch, batched=True, batch_size=32)\n",
    "test_tokenized.set_format(type='torch', columns=['input_ids', 'attention_mask', 'label'])\n",
    "\n",
    "# dev set\n",
    "dev_label2id = {label: i for i, label in enumerate(sorted(set(dev_labels)))} # Dict that maps each label to an integer\n",
    "dev_encoded_labels = [dev_label2id[label] for label in dev_labels]\n",
    "dev_data_dict = {\n",
    "    \"text\": dev_inputs,\n",
    "    \"label\": dev_encoded_labels\n",
    "}\n",
    "context_df = pd.DataFrame(dev_data_dict)\n",
    "dev_dataset = Dataset.from_pandas(context_df)\n",
    "dev_tokenized = dev_dataset.map(tokenize_batch, batched=True, batch_size=32)\n",
    "dev_tokenized.set_format(type='torch', columns=['input_ids', 'attention_mask', 'label'])\n",
    "\n",
    "# Create dataloaders\n",
    "from torch.utils.data import DataLoader\n",
    "train_loader = DataLoader(train_tokenized, batch_size=32, shuffle=True)\n",
    "dev_loader = DataLoader(dev_tokenized, batch_size=16)\n",
    "test_loader = DataLoader(test_tokenized, batch_size=16)"
   ]
  },
  {
   "cell_type": "markdown",
   "metadata": {},
   "source": [
    "<center>\n",
    "\n",
    "\n",
    "### Here is an example of what I have done with the data. \n",
    "\n",
    "<Center>"
   ]
  },
  {
   "cell_type": "code",
   "execution_count": 23,
   "metadata": {
    "execution": {
     "iopub.execute_input": "2025-06-22T12:18:49.121338Z",
     "iopub.status.busy": "2025-06-22T12:18:49.120998Z",
     "iopub.status.idle": "2025-06-22T12:18:49.131324Z",
     "shell.execute_reply": "2025-06-22T12:18:49.130420Z",
     "shell.execute_reply.started": "2025-06-22T12:18:49.121312Z"
    },
    "trusted": true
   },
   "outputs": [
    {
     "name": "stdout",
     "output_type": "stream",
     "text": [
      "Here is example of what we have done with the data: \n",
      "\n",
      " We added the speaker tokens. And we progressively prepend context to each utterance in a dialogue\n",
      "\n",
      " Example 7395 — Contextualized Input:\n",
      "\n",
      "<speaker1>: Hey Joey, I got some beer for you. </s> <speaker2>: Uh, don't you mean \"for whom?\" </s>\n",
      "<speaker1>: Sure, listen I was gonna order some pizza, you wanna share one?\n",
      "\n",
      " Label: neutral  → Encoded as: 4\n",
      " Number of tokens: 512\n",
      "\n",
      " Decoded token (first 50 tokens):\n",
      "<s> <speaker1> : Hey Joey, I got some beer for you. </s>  <speaker2> : Uh, don't you mean \"for\n",
      "whom?\" </s>  <speaker1> : Sure, listen I was gonna order some pizza, you wanna share one?</s><pad>\n"
     ]
    }
   ],
   "source": [
    "from random import randint\n",
    "import textwrap\n",
    "# Show how one contextual input looks (random sample)\n",
    "random_idx = randint(0, len(train_inputs) - 1)\n",
    "print(f\"Here is example of what we have done with the data: \")\n",
    "print(f\"\\n We added the speaker tokens. And we progressively prepend context to each utterance in a dialogue\")\n",
    "print(f\"\\n Example {random_idx} — Contextualized Input:\\n\")\n",
    "print(textwrap.fill(train_inputs[random_idx], width=100))\n",
    "print(f\"\\n Label: {train_labels[random_idx]}  → Encoded as: {encoded_labels[random_idx]}\")\n",
    "\n",
    "# Show tokenized version for the same example\n",
    "tokenized_example = train_tokenized[random_idx]\n",
    "print(\" Number of tokens:\", len(tokenized_example['input_ids']))\n",
    "\n",
    "# Decode first few tokens to show what model will see\n",
    "decoded_preview = tokenizer.decode(tokenized_example['input_ids'][:50], skip_special_tokens=False)\n",
    "print(\"\\n Decoded token (first 50 tokens):\")\n",
    "print(textwrap.fill(decoded_preview, width=100))"
   ]
  },
  {
   "cell_type": "markdown",
   "metadata": {},
   "source": [
    "<Center>\n",
    "\n",
    "# **Fine-Tuning Setup and Training Loop**\n",
    "\n",
    "# In this section, the RoBERTa-base model is fine-tuned on the MELD dataset for emotion classification.\n",
    "# We begin by preparing the model for training: assigning it to the GPU (I used Kaggle GPUs), setting up the AdamW optimizer, and defining a cross-entropy loss function for multi-class classification.\n",
    "# A linear learning rate scheduler with warm-up is also initialized to improve convergence stability.\n",
    "\n",
    "# The training loop runs for 15 epochs. For each epoch:\n",
    "# - The model is trained batch by batch, and the loss and accuracy are recorded.\n",
    "# - After training, the model is evaluated on the validation set without gradient updates.\n",
    "# - Validation loss and accuracy are calculated and logged.\n",
    "# - The best-performing model (based on validation loss) is saved to disk as a checkpoint.\n",
    "# - At the end of training, the final model is also saved.\n",
    "\n",
    "# Throughout the training, various metrics (losses, accuracies, learning rates) are stored for post-hoc visualization and analysis.\n",
    "\n",
    "<center>"
   ]
  },
  {
   "cell_type": "code",
   "execution_count": 9,
   "metadata": {
    "execution": {
     "iopub.execute_input": "2025-06-22T12:28:43.774912Z",
     "iopub.status.busy": "2025-06-22T12:28:43.774641Z",
     "iopub.status.idle": "2025-06-22T13:33:10.268320Z",
     "shell.execute_reply": "2025-06-22T13:33:10.267735Z",
     "shell.execute_reply.started": "2025-06-22T12:28:43.774892Z"
    },
    "trusted": true
   },
   "outputs": [
    {
     "name": "stderr",
     "output_type": "stream",
     "text": [
      "Epoch 1 - Training: 100%|██████████| 313/313 [03:59<00:00,  1.31it/s]\n"
     ]
    },
    {
     "name": "stdout",
     "output_type": "stream",
     "text": [
      "Epoch 1: LR = 0.000013\n",
      "Train loss: 1.7065 | Train accuracy: 0.3621\n"
     ]
    },
    {
     "name": "stderr",
     "output_type": "stream",
     "text": [
      "Validation: 100%|██████████| 70/70 [00:16<00:00,  4.17it/s]\n"
     ]
    },
    {
     "name": "stdout",
     "output_type": "stream",
     "text": [
      "Val loss: 1.5961 | Val accuracy: 0.4238\n",
      "New best model saved at /kaggle/working/Extended_Token_model_1.pt\n"
     ]
    },
    {
     "name": "stderr",
     "output_type": "stream",
     "text": [
      "Epoch 2 - Training: 100%|██████████| 313/313 [04:00<00:00,  1.30it/s]\n"
     ]
    },
    {
     "name": "stdout",
     "output_type": "stream",
     "text": [
      "Epoch 2: LR = 0.000019\n",
      "Train loss: 1.4069 | Train accuracy: 0.5172\n"
     ]
    },
    {
     "name": "stderr",
     "output_type": "stream",
     "text": [
      "Validation: 100%|██████████| 70/70 [00:16<00:00,  4.17it/s]\n"
     ]
    },
    {
     "name": "stdout",
     "output_type": "stream",
     "text": [
      "Val loss: 1.2757 | Val accuracy: 0.5582\n",
      "New best model saved at /kaggle/working/Extended_Token_model_2.pt\n"
     ]
    },
    {
     "name": "stderr",
     "output_type": "stream",
     "text": [
      "Epoch 3 - Training: 100%|██████████| 313/313 [04:00<00:00,  1.30it/s]\n"
     ]
    },
    {
     "name": "stdout",
     "output_type": "stream",
     "text": [
      "Epoch 3: LR = 0.000018\n",
      "Train loss: 1.2023 | Train accuracy: 0.6011\n"
     ]
    },
    {
     "name": "stderr",
     "output_type": "stream",
     "text": [
      "Validation: 100%|██████████| 70/70 [00:16<00:00,  4.17it/s]\n"
     ]
    },
    {
     "name": "stdout",
     "output_type": "stream",
     "text": [
      "Val loss: 1.1606 | Val accuracy: 0.5987\n",
      "New best model saved at /kaggle/working/Extended_Token_model_3.pt\n"
     ]
    },
    {
     "name": "stderr",
     "output_type": "stream",
     "text": [
      "Epoch 4 - Training: 100%|██████████| 313/313 [04:00<00:00,  1.30it/s]\n"
     ]
    },
    {
     "name": "stdout",
     "output_type": "stream",
     "text": [
      "Epoch 4: LR = 0.000016\n",
      "Train loss: 1.1233 | Train accuracy: 0.6237\n"
     ]
    },
    {
     "name": "stderr",
     "output_type": "stream",
     "text": [
      "Validation: 100%|██████████| 70/70 [00:16<00:00,  4.17it/s]\n"
     ]
    },
    {
     "name": "stdout",
     "output_type": "stream",
     "text": [
      "Val loss: 1.1266 | Val accuracy: 0.6078\n",
      "New best model saved at /kaggle/working/Extended_Token_model_4.pt\n"
     ]
    },
    {
     "name": "stderr",
     "output_type": "stream",
     "text": [
      "Epoch 5 - Training: 100%|██████████| 313/313 [04:00<00:00,  1.30it/s]\n"
     ]
    },
    {
     "name": "stdout",
     "output_type": "stream",
     "text": [
      "Epoch 5: LR = 0.000015\n",
      "Train loss: 1.0855 | Train accuracy: 0.6362\n"
     ]
    },
    {
     "name": "stderr",
     "output_type": "stream",
     "text": [
      "Validation: 100%|██████████| 70/70 [00:16<00:00,  4.16it/s]\n"
     ]
    },
    {
     "name": "stdout",
     "output_type": "stream",
     "text": [
      "Val loss: 1.1192 | Val accuracy: 0.5924\n",
      "New best model saved at /kaggle/working/Extended_Token_model_5.pt\n"
     ]
    },
    {
     "name": "stderr",
     "output_type": "stream",
     "text": [
      "Epoch 6 - Training: 100%|██████████| 313/313 [04:00<00:00,  1.30it/s]\n"
     ]
    },
    {
     "name": "stdout",
     "output_type": "stream",
     "text": [
      "Epoch 6: LR = 0.000013\n",
      "Train loss: 1.0383 | Train accuracy: 0.6490\n"
     ]
    },
    {
     "name": "stderr",
     "output_type": "stream",
     "text": [
      "Validation: 100%|██████████| 70/70 [00:16<00:00,  4.16it/s]\n"
     ]
    },
    {
     "name": "stdout",
     "output_type": "stream",
     "text": [
      "Val loss: 1.1399 | Val accuracy: 0.6168\n"
     ]
    },
    {
     "name": "stderr",
     "output_type": "stream",
     "text": [
      "Epoch 7 - Training: 100%|██████████| 313/313 [04:00<00:00,  1.30it/s]\n"
     ]
    },
    {
     "name": "stdout",
     "output_type": "stream",
     "text": [
      "Epoch 7: LR = 0.000012\n",
      "Train loss: 1.0129 | Train accuracy: 0.6568\n"
     ]
    },
    {
     "name": "stderr",
     "output_type": "stream",
     "text": [
      "Validation: 100%|██████████| 70/70 [00:16<00:00,  4.17it/s]\n"
     ]
    },
    {
     "name": "stdout",
     "output_type": "stream",
     "text": [
      "Val loss: 1.0930 | Val accuracy: 0.6096\n",
      "New best model saved at /kaggle/working/Extended_Token_model_7.pt\n"
     ]
    },
    {
     "name": "stderr",
     "output_type": "stream",
     "text": [
      "Epoch 8 - Training: 100%|██████████| 313/313 [04:00<00:00,  1.30it/s]\n"
     ]
    },
    {
     "name": "stdout",
     "output_type": "stream",
     "text": [
      "Epoch 8: LR = 0.000010\n",
      "Train loss: 0.9759 | Train accuracy: 0.6695\n"
     ]
    },
    {
     "name": "stderr",
     "output_type": "stream",
     "text": [
      "Validation: 100%|██████████| 70/70 [00:16<00:00,  4.17it/s]\n"
     ]
    },
    {
     "name": "stdout",
     "output_type": "stream",
     "text": [
      "Val loss: 1.0928 | Val accuracy: 0.6132\n",
      "New best model saved at /kaggle/working/Extended_Token_model_8.pt\n"
     ]
    },
    {
     "name": "stderr",
     "output_type": "stream",
     "text": [
      "Epoch 9 - Training: 100%|██████████| 313/313 [04:00<00:00,  1.30it/s]\n"
     ]
    },
    {
     "name": "stdout",
     "output_type": "stream",
     "text": [
      "Epoch 9: LR = 0.000009\n",
      "Train loss: 0.9498 | Train accuracy: 0.6756\n"
     ]
    },
    {
     "name": "stderr",
     "output_type": "stream",
     "text": [
      "Validation: 100%|██████████| 70/70 [00:16<00:00,  4.16it/s]\n"
     ]
    },
    {
     "name": "stdout",
     "output_type": "stream",
     "text": [
      "Val loss: 1.1013 | Val accuracy: 0.6132\n"
     ]
    },
    {
     "name": "stderr",
     "output_type": "stream",
     "text": [
      "Epoch 10 - Training: 100%|██████████| 313/313 [04:00<00:00,  1.30it/s]\n"
     ]
    },
    {
     "name": "stdout",
     "output_type": "stream",
     "text": [
      "Epoch 10: LR = 0.000007\n",
      "Train loss: 0.9221 | Train accuracy: 0.6878\n"
     ]
    },
    {
     "name": "stderr",
     "output_type": "stream",
     "text": [
      "Validation: 100%|██████████| 70/70 [00:16<00:00,  4.16it/s]\n"
     ]
    },
    {
     "name": "stdout",
     "output_type": "stream",
     "text": [
      "Val loss: 1.1121 | Val accuracy: 0.6222\n"
     ]
    },
    {
     "name": "stderr",
     "output_type": "stream",
     "text": [
      "Epoch 11 - Training: 100%|██████████| 313/313 [04:00<00:00,  1.30it/s]\n"
     ]
    },
    {
     "name": "stdout",
     "output_type": "stream",
     "text": [
      "Epoch 11: LR = 0.000006\n",
      "Train loss: 0.8961 | Train accuracy: 0.6921\n"
     ]
    },
    {
     "name": "stderr",
     "output_type": "stream",
     "text": [
      "Validation: 100%|██████████| 70/70 [00:16<00:00,  4.17it/s]\n"
     ]
    },
    {
     "name": "stdout",
     "output_type": "stream",
     "text": [
      "Val loss: 1.1119 | Val accuracy: 0.6294\n"
     ]
    },
    {
     "name": "stderr",
     "output_type": "stream",
     "text": [
      "Epoch 12 - Training: 100%|██████████| 313/313 [04:00<00:00,  1.30it/s]\n"
     ]
    },
    {
     "name": "stdout",
     "output_type": "stream",
     "text": [
      "Epoch 12: LR = 0.000004\n",
      "Train loss: 0.8804 | Train accuracy: 0.6996\n"
     ]
    },
    {
     "name": "stderr",
     "output_type": "stream",
     "text": [
      "Validation: 100%|██████████| 70/70 [00:16<00:00,  4.15it/s]\n"
     ]
    },
    {
     "name": "stdout",
     "output_type": "stream",
     "text": [
      "Val loss: 1.1344 | Val accuracy: 0.6267\n"
     ]
    },
    {
     "name": "stderr",
     "output_type": "stream",
     "text": [
      "Epoch 13 - Training: 100%|██████████| 313/313 [04:00<00:00,  1.30it/s]\n"
     ]
    },
    {
     "name": "stdout",
     "output_type": "stream",
     "text": [
      "Epoch 13: LR = 0.000003\n",
      "Train loss: 0.8601 | Train accuracy: 0.7032\n"
     ]
    },
    {
     "name": "stderr",
     "output_type": "stream",
     "text": [
      "Validation: 100%|██████████| 70/70 [00:16<00:00,  4.16it/s]\n"
     ]
    },
    {
     "name": "stdout",
     "output_type": "stream",
     "text": [
      "Val loss: 1.1243 | Val accuracy: 0.6294\n"
     ]
    },
    {
     "name": "stderr",
     "output_type": "stream",
     "text": [
      "Epoch 14 - Training: 100%|██████████| 313/313 [04:00<00:00,  1.30it/s]\n"
     ]
    },
    {
     "name": "stdout",
     "output_type": "stream",
     "text": [
      "Epoch 14: LR = 0.000001\n",
      "Train loss: 0.8577 | Train accuracy: 0.7017\n"
     ]
    },
    {
     "name": "stderr",
     "output_type": "stream",
     "text": [
      "Validation: 100%|██████████| 70/70 [00:16<00:00,  4.16it/s]\n"
     ]
    },
    {
     "name": "stdout",
     "output_type": "stream",
     "text": [
      "Val loss: 1.1272 | Val accuracy: 0.6258\n"
     ]
    },
    {
     "name": "stderr",
     "output_type": "stream",
     "text": [
      "Epoch 15 - Training: 100%|██████████| 313/313 [04:00<00:00,  1.30it/s]\n"
     ]
    },
    {
     "name": "stdout",
     "output_type": "stream",
     "text": [
      "Epoch 15: LR = 0.000000\n",
      "Train loss: 0.8487 | Train accuracy: 0.7118\n"
     ]
    },
    {
     "name": "stderr",
     "output_type": "stream",
     "text": [
      "Validation: 100%|██████████| 70/70 [00:16<00:00,  4.16it/s]\n"
     ]
    },
    {
     "name": "stdout",
     "output_type": "stream",
     "text": [
      "Val loss: 1.1290 | Val accuracy: 0.6276\n"
     ]
    }
   ],
   "source": [
    "# Now we can prepare for model training\n",
    "device = torch.device('cuda' if torch.cuda.is_available() else 'cpu')\n",
    "Full_model.to(device)\n",
    "optimizer = torch.optim.AdamW(Full_model.parameters(), lr=2e-5)\n",
    "criterion = nn.CrossEntropyLoss()\n",
    "\n",
    "from transformers import get_linear_schedule_with_warmup\n",
    "epochs = 15\n",
    "total_steps = len(train_loader) * epochs\n",
    "warmup_steps = int(0.1 * total_steps)\n",
    "\n",
    "scheduler = get_linear_schedule_with_warmup(\n",
    "    optimizer,\n",
    "    num_warmup_steps=warmup_steps,\n",
    "    num_training_steps=total_steps\n",
    ")\n",
    "\n",
    "# Store metrics for plotting\n",
    "all_train_batch_losses = []\n",
    "all_val_batch_losses = []\n",
    "all_train_batch_acc = []\n",
    "all_val_batch_acc = []\n",
    "epoch_train_accuracies = []\n",
    "epoch_val_accuracies = []\n",
    "epoch_train_losses = []\n",
    "epoch_val_losses = []\n",
    "all_learning_rates = []\n",
    "best_val_loss = float('inf')\n",
    "\n",
    "for epoch in range(epochs):\n",
    "    Full_model.train()\n",
    "    train_loss = 0\n",
    "    correct = 0\n",
    "    total = 0\n",
    "    epoch_batch_losses = []\n",
    "    epoch_batch_acc = []\n",
    "\n",
    "    for batch in tqdm(train_loader, desc=f\"Epoch {epoch+1} - Training\"):\n",
    "        input_ids = batch['input_ids'].to(device)\n",
    "        attention_mask = batch['attention_mask'].to(device)\n",
    "        labels = batch['label'].to(device)\n",
    "\n",
    "        optimizer.zero_grad()\n",
    "        outputs = Full_model(input_ids=input_ids, attention_mask=attention_mask)\n",
    "        loss = criterion(outputs, labels)\n",
    "        loss.backward()\n",
    "        optimizer.step()\n",
    "        scheduler.step()\n",
    "        current_lr = scheduler.get_last_lr()[0]\n",
    "        all_learning_rates.append(current_lr)\n",
    "\n",
    "        loss_value = loss.item()\n",
    "        train_loss += loss_value\n",
    "        epoch_batch_losses.append(loss_value)\n",
    "\n",
    "        _, preds = torch.max(outputs, dim=1)\n",
    "        batch_correct = (preds == labels).sum().item()\n",
    "        correct += batch_correct\n",
    "        total += labels.size(0)\n",
    "\n",
    "        batch_acc = batch_correct / labels.size(0)\n",
    "        epoch_batch_acc.append(batch_acc)\n",
    "\n",
    "    avg_loss = train_loss / len(train_loader)\n",
    "    accuracy = correct / total\n",
    "\n",
    "    print(f\"Epoch {epoch+1}: LR = {current_lr:.6f}\")\n",
    "    print(f\"Train loss: {avg_loss:.4f} | Train accuracy: {accuracy:.4f}\")\n",
    "\n",
    "    all_train_batch_losses.extend(epoch_batch_losses)\n",
    "    all_train_batch_acc.extend(epoch_batch_acc)\n",
    "    epoch_train_losses.append(avg_loss)\n",
    "    epoch_train_accuracies.append(accuracy)\n",
    "\n",
    "    # Validation loop\n",
    "    Full_model.eval()\n",
    "    val_loss = 0\n",
    "    correct = 0\n",
    "    total = 0\n",
    "    val_epoch_losses = []\n",
    "    val_epoch_acc = []\n",
    "\n",
    "    with torch.no_grad():\n",
    "        for batch in tqdm(dev_loader, desc=\"Validation\"):\n",
    "            input_ids = batch['input_ids'].to(device)\n",
    "            attention_mask = batch['attention_mask'].to(device)\n",
    "            labels = batch['label'].to(device)\n",
    "\n",
    "            outputs = Full_model(input_ids=input_ids, attention_mask=attention_mask)\n",
    "            loss = criterion(outputs, labels)\n",
    "\n",
    "            val_loss += loss.item()\n",
    "            val_epoch_losses.append(loss.item())\n",
    "\n",
    "            _, preds = torch.max(outputs, dim=1)\n",
    "            batch_correct = (preds == labels).sum().item()\n",
    "            correct += batch_correct\n",
    "            total += labels.size(0)\n",
    "\n",
    "            batch_acc = batch_correct / labels.size(0)\n",
    "            val_epoch_acc.append(batch_acc)\n",
    "\n",
    "    avg_val_loss = val_loss / len(dev_loader)\n",
    "    val_accuracy = correct / total\n",
    "\n",
    "    print(f\"Val loss: {avg_val_loss:.4f} | Val accuracy: {val_accuracy:.4f}\")\n",
    "\n",
    "    all_val_batch_losses.extend(val_epoch_losses)\n",
    "    all_val_batch_acc.extend(val_epoch_acc)\n",
    "    epoch_val_losses.append(avg_val_loss)\n",
    "    epoch_val_accuracies.append(val_accuracy)\n",
    "\n",
    "    # Save only if validation improves\n",
    "    if avg_val_loss < best_val_loss:\n",
    "        best_val_loss = avg_val_loss\n",
    "        checkpoint_path = f\"/kaggle/working/Extended_Token_model_{epoch+1}.pt\"\n",
    "        torch.save({\n",
    "            'model_state_dict': Full_model.state_dict(),\n",
    "            'optimizer_state_dict': optimizer.state_dict(),\n",
    "            'scheduler_state_dict': scheduler.state_dict(),\n",
    "            'epoch': epoch,\n",
    "            'val_loss': avg_val_loss\n",
    "        }, checkpoint_path)\n",
    "        print(f\"New best model saved at {checkpoint_path}\")\n",
    "    if epoch == epochs - 1:\n",
    "        torch.save(Full_model.state_dict(), \"/kaggle/working/final_model.pt\")"
   ]
  },
  {
   "cell_type": "code",
   "execution_count": 12,
   "metadata": {
    "execution": {
     "iopub.execute_input": "2025-06-22T13:38:08.206207Z",
     "iopub.status.busy": "2025-06-22T13:38:08.205930Z",
     "iopub.status.idle": "2025-06-22T13:38:08.240769Z",
     "shell.execute_reply": "2025-06-22T13:38:08.240060Z",
     "shell.execute_reply.started": "2025-06-22T13:38:08.206187Z"
    },
    "trusted": true
   },
   "outputs": [],
   "source": [
    "# Save batch-level training metrics\n",
    "pd.DataFrame({\n",
    "    'train_batch_loss': all_train_batch_losses,\n",
    "    'train_batch_acc': all_train_batch_acc,\n",
    "    'learning_rate': all_learning_rates\n",
    "}).to_csv('/kaggle/working/train_batch_metrics.csv', index=False)\n",
    "\n",
    "# Save batch-level validation metrics\n",
    "pd.DataFrame({\n",
    "    'val_batch_loss': all_val_batch_losses,\n",
    "    'val_batch_acc': all_val_batch_acc\n",
    "}).to_csv('/kaggle/working/val_batch_metrics.csv', index=False)\n",
    "\n",
    "# Save epoch-level metrics\n",
    "pd.DataFrame({\n",
    "    'epoch_train_loss': epoch_train_losses,\n",
    "    'epoch_train_acc': epoch_train_accuracies,\n",
    "    'epoch_val_loss': epoch_val_losses,\n",
    "    'epoch_val_acc': epoch_val_accuracies\n",
    "}).to_csv('/kaggle/working/epoch_metrics.csv', index=False)"
   ]
  },
  {
   "cell_type": "markdown",
   "metadata": {},
   "source": [
    "<center>\n",
    "\n",
    "### I now do some visualisation of the losses and accuracy at the epoch level as well as the more noisy batch level. We can see that althought he training loss and accuracy were still improving, the validation metrics seem to have reached a plateau.\n",
    "\n",
    "<center>"
   ]
  },
  {
   "cell_type": "code",
   "execution_count": 11,
   "metadata": {
    "execution": {
     "iopub.execute_input": "2025-06-22T13:36:57.484536Z",
     "iopub.status.busy": "2025-06-22T13:36:57.483912Z",
     "iopub.status.idle": "2025-06-22T13:36:58.336210Z",
     "shell.execute_reply": "2025-06-22T13:36:58.335497Z",
     "shell.execute_reply.started": "2025-06-22T13:36:57.484510Z"
    },
    "trusted": true
   },
   "outputs": [
    {
     "data": {
      "image/png": "[encoded data removed]",
      "text/plain": [
       "<Figure size 1000x500 with 1 Axes>"
      ]
     },
     "metadata": {},
     "output_type": "display_data"
    },
    {
     "data": {
      "image/png": "[encoded data removed]",
      "text/plain": [
       "<Figure size 1000x500 with 1 Axes>"
      ]
     },
     "metadata": {},
     "output_type": "display_data"
    },
    {
     "data": {
      "image/png": "[encoded data removed]",
      "text/plain": [
       "<Figure size 1000x500 with 1 Axes>"
      ]
     },
     "metadata": {},
     "output_type": "display_data"
    },
    {
     "data": {
      "image/png": "[encoded data removed]",
      "text/plain": [
       "<Figure size 1000x500 with 1 Axes>"
      ]
     },
     "metadata": {},
     "output_type": "display_data"
    },
    {
     "data": {
      "image/png": "[encoded data removed]",
      "text/plain": [
       "<Figure size 1000x500 with 1 Axes>"
      ]
     },
     "metadata": {},
     "output_type": "display_data"
    }
   ],
   "source": [
    "# Plot epoch-level losses\n",
    "plt.figure(figsize=(10, 5))\n",
    "plt.plot(epoch_train_losses, label='Train Loss')\n",
    "plt.plot(epoch_val_losses, label='Validation Loss')\n",
    "plt.title('Epoch Losses')\n",
    "plt.xlabel('Epoch')\n",
    "plt.ylabel('Loss')\n",
    "plt.legend()\n",
    "plt.grid(True)\n",
    "plt.show()\n",
    "\n",
    "# Plot epoch-level accuracies\n",
    "plt.figure(figsize=(10, 5))\n",
    "plt.plot(epoch_train_accuracies, label='Train Accuracy')\n",
    "plt.plot(epoch_val_accuracies, label='Validation Accuracy')\n",
    "plt.title('Epoch Accuracies')\n",
    "plt.xlabel('Epoch')\n",
    "plt.ylabel('Accuracy')\n",
    "plt.legend()\n",
    "plt.grid(True)\n",
    "plt.show()\n",
    "\n",
    "# Plot batch-level training loss\n",
    "plt.figure(figsize=(10, 5))\n",
    "plt.plot(all_train_batch_losses, label='Train Batch Loss', alpha=0.7)\n",
    "plt.title('Train Batch Losses')\n",
    "plt.xlabel('Batch')\n",
    "plt.ylabel('Loss')\n",
    "plt.legend()\n",
    "plt.grid(True)\n",
    "plt.show()\n",
    "\n",
    "# Plot batch-level training accuracy\n",
    "plt.figure(figsize=(10, 5))\n",
    "plt.plot(all_train_batch_acc, label='Train Batch Accuracy', alpha=0.7)\n",
    "plt.title('Train Batch Accuracies')\n",
    "plt.xlabel('Batch')\n",
    "plt.ylabel('Accuracy')\n",
    "plt.legend()\n",
    "plt.grid(True)\n",
    "plt.show()\n",
    "\n",
    "# Plot learning rate schedule\n",
    "plt.figure(figsize=(10, 5))\n",
    "plt.plot(all_learning_rates, label='Learning Rate')\n",
    "plt.title('Learning Rate over Time')\n",
    "plt.xlabel('Training Step')\n",
    "plt.ylabel('Learning Rate')\n",
    "plt.legend()\n",
    "plt.grid(True)\n",
    "plt.show()"
   ]
  },
  {
   "cell_type": "markdown",
   "metadata": {},
   "source": [
    "<center>\n",
    "\n",
    "# Here I test the performance of the model on the test set. We have Test Loss: 1.0445, Test Accuracy: 0.6533 and  Weighted F1 Score: 0.6325. These metrics are not incredible but are comparable to other groups that have fine tuned models based on RoBERTa as the base model. You can see this at the following link:\n",
    " https://paperswithcode.com/sota/emotion-recognition-in-conversation-on-meld\n",
    "\n",
    " <center>"
   ]
  },
  {
   "cell_type": "code",
   "execution_count": null,
   "metadata": {},
   "outputs": [
    {
     "name": "stderr",
     "output_type": "stream",
     "text": [
      "Some weights of RobertaModel were not initialized from the model checkpoint at roberta-base and are newly initialized: ['pooler.dense.bias', 'pooler.dense.weight']\n",
      "You should probably TRAIN this model on a down-stream task to be able to use it for predictions and inference.\n"
     ]
    },
    {
     "name": "stdout",
     "output_type": "stream",
     "text": [
      "Tokenizer length before adding new tokens = 50265\n",
      "Tokenizer length after adding new tokens = 50274\n"
     ]
    },
    {
     "data": {
      "application/vnd.jupyter.widget-view+json": {
       "model_id": "52152e9dce8545349d517e76c77c158f",
       "version_major": 2,
       "version_minor": 0
      },
      "text/plain": [
       "Map:   0%|          | 0/2610 [00:00<?, ? examples/s]"
      ]
     },
     "metadata": {},
     "output_type": "display_data"
    },
    {
     "name": "stderr",
     "output_type": "stream",
     "text": [
      "Some weights of RobertaModel were not initialized from the model checkpoint at roberta-base and are newly initialized: ['pooler.dense.bias', 'pooler.dense.weight']\n",
      "You should probably TRAIN this model on a down-stream task to be able to use it for predictions and inference.\n",
      "Testing: 100%|██████████| 164/164 [08:37<00:00,  3.16s/it]"
     ]
    },
    {
     "name": "stdout",
     "output_type": "stream",
     "text": [
      "\n",
      " Test Loss: 1.0445\n",
      " Test Accuracy: 0.6533\n",
      " Weighted F1 Score: 0.6325\n"
     ]
    },
    {
     "name": "stderr",
     "output_type": "stream",
     "text": [
      "\n"
     ]
    }
   ],
   "source": [
    "import torch\n",
    "import torch.nn as nn\n",
    "from sklearn.metrics import accuracy_score, f1_score\n",
    "from tqdm import tqdm\n",
    "import pandas as pd\n",
    "from datasets import Dataset\n",
    "from transformers import RobertaModel, RobertaTokenizer\n",
    "\n",
    "test_df = pd.read_csv('Path to test data/Re_Connect_Project/Data/test_sent_emo.csv')\n",
    "\n",
    "# Load the model and tokenizer\n",
    "model = RobertaModel.from_pretrained('roberta-base')\n",
    "tokenizer = RobertaTokenizer.from_pretrained('roberta-base')\n",
    "print(f'Tokenizer length before adding new tokens = {len(tokenizer)}')\n",
    "\n",
    "# Add special tokens for speakers\n",
    "special_speaker_tokens = [f\"<speaker{i}>\" for i in range(1, 10)]  # speaker1 to speaker9\n",
    "tokenizer.add_special_tokens({'additional_special_tokens': special_speaker_tokens}) # Add the new tokens to the tokenizer\n",
    "print(f'Tokenizer length after adding new tokens = {len(tokenizer)}')\n",
    "max_length = tokenizer.model_max_length\n",
    "sep_token = tokenizer.sep_token # This is the separator token for later use\n",
    "\n",
    "def build_dynamic_context_inputs(df):\n",
    "    inputs = []\n",
    "    labels = []\n",
    "\n",
    "    for dialog_id in df['Dialogue_ID'].unique():\n",
    "        dialog = df[df['Dialogue_ID'] == dialog_id].sort_values('Utterance_ID')\n",
    "        utterances = dialog['Utterance'].tolist()\n",
    "        speakers = dialog['Speaker'].tolist()\n",
    "        emotions = dialog['Emotion'].tolist()\n",
    "\n",
    "        # Create speaker mapping for this dialogue\n",
    "        unique_speakers = sorted(set(speakers))\n",
    "        speaker_map = {name: f\"<speaker{i+1}>\" for i, name in enumerate(unique_speakers)}\n",
    "\n",
    "        for idx in range(len(utterances)):\n",
    "            context = []\n",
    "            token_count = 0\n",
    "            \n",
    "            # Start from current utterance and go backward\n",
    "            for i in range(idx, -1, -1):\n",
    "                speaker_tag = speaker_map[speakers[i]]\n",
    "                text_piece = f\"{speaker_tag}: {utterances[i]}\"\n",
    "                tokens = tokenizer.tokenize(text_piece)\n",
    "                token_count += len(tokens) + 1  # +1 for separator\n",
    "\n",
    "                if token_count >= max_length:\n",
    "                    break\n",
    "\n",
    "                context.insert(0, text_piece)  # prepend so order is preserved\n",
    "\n",
    "            input_text = f\" {sep_token} \".join(context)\n",
    "            inputs.append(input_text)\n",
    "            labels.append(emotions[idx])\n",
    "\n",
    "    return inputs, labels\n",
    "\n",
    "test_inputs, test_labels = build_dynamic_context_inputs(test_df)\n",
    "# Now for the test set\n",
    "test_label2id = {label: i for i, label in enumerate(sorted(set(test_labels)))} # Dict that maps each label to an integer\n",
    "test_encoded_labels = [test_label2id[label] for label in test_labels]\n",
    "test_data_dict = {\n",
    "    \"text\": test_inputs,\n",
    "    \"label\": test_encoded_labels\n",
    "}\n",
    "context_df = pd.DataFrame(test_data_dict)\n",
    "test_dataset = Dataset.from_pandas(context_df)\n",
    "def tokenize_batch(batch):\n",
    "    return tokenizer(batch['text'],\n",
    "                     padding='max_length',\n",
    "                     truncation=True,\n",
    "                     max_length=512,\n",
    "                     return_attention_mask=True)\n",
    "\n",
    "test_tokenized = test_dataset.map(tokenize_batch, batched=True, batch_size=32)\n",
    "test_tokenized.set_format(type='torch', columns=['input_ids', 'attention_mask', 'label'])\n",
    "from torch.utils.data import DataLoader\n",
    "test_loader = DataLoader(test_tokenized, batch_size=16)\n",
    "\n",
    "# Define the same model architecture used during training\n",
    "class RobertaForEmotionClassification(nn.Module):\n",
    "    def __init__(self, model, num_labels):\n",
    "        super().__init__()\n",
    "        self.roberta = model\n",
    "        self.dropout = nn.Dropout(p=0.1)\n",
    "        self.classifier = nn.Linear(768, num_labels)\n",
    "\n",
    "    def forward(self, input_ids, attention_mask):\n",
    "        outputs = self.roberta(input_ids=input_ids, attention_mask=attention_mask)\n",
    "        cls_output = outputs.last_hidden_state[:, 0, :]  # CLS token\n",
    "        cls_output = self.dropout(cls_output)\n",
    "        return self.classifier(cls_output)\n",
    "\n",
    "# Reload pretrained base model\n",
    "base_model = RobertaModel.from_pretrained(\"roberta-base\")\n",
    "num_labels = len(set(test_labels))  # should match your training setup\n",
    "\n",
    "# Instantiate and load the saved model\n",
    "Full_model = RobertaForEmotionClassification(base_model, num_labels)\n",
    "Full_model.roberta.resize_token_embeddings(len(tokenizer))\n",
    "# Load the full checkpoint\n",
    "checkpoint = torch.load(\"Path to the saved models/Re_Connect_Project/Trained_Models/Extended_Token_model_8.pt\", map_location='cpu')\n",
    "Full_model.load_state_dict(checkpoint['model_state_dict'])\n",
    "device = torch.device('cuda' if torch.cuda.is_available() else 'cpu')\n",
    "Full_model.to(device)\n",
    "Full_model.eval()\n",
    "\n",
    "# Define loss function\n",
    "criterion = nn.CrossEntropyLoss()\n",
    "\n",
    "# Evaluate on test set\n",
    "all_preds = []\n",
    "all_labels = []\n",
    "test_loss = 0.0\n",
    "\n",
    "with torch.no_grad():\n",
    "    for batch in tqdm(test_loader, desc=\"Testing\"):\n",
    "        input_ids = batch['input_ids'].to(device)\n",
    "        attention_mask = batch['attention_mask'].to(device)\n",
    "        labels = batch['label'].to(device)\n",
    "\n",
    "        outputs = Full_model(input_ids=input_ids, attention_mask=attention_mask)\n",
    "        loss = criterion(outputs, labels)\n",
    "        test_loss += loss.item()\n",
    "\n",
    "        _, preds = torch.max(outputs, dim=1)\n",
    "        all_preds.extend(preds.cpu().numpy())\n",
    "        all_labels.extend(labels.cpu().numpy())\n",
    "\n",
    "# Compute average loss and metrics\n",
    "avg_test_loss = test_loss / len(test_loader)\n",
    "test_accuracy = accuracy_score(all_labels, all_preds)\n",
    "weighted_f1 = f1_score(all_labels, all_preds, average='weighted')\n",
    "\n",
    "print(f\"\\n Test Loss: {avg_test_loss:.4f}\")\n",
    "print(f\" Test Accuracy: {test_accuracy:.4f}\")\n",
    "print(f\" Weighted F1 Score: {weighted_f1:.4f}\")"
   ]
  },
  {
   "cell_type": "code",
   "execution_count": null,
   "metadata": {},
   "outputs": [],
   "source": []
  },
  {
   "cell_type": "code",
   "execution_count": null,
   "metadata": {},
   "outputs": [],
   "source": []
  },
  {
   "cell_type": "code",
   "execution_count": null,
   "metadata": {},
   "outputs": [],
   "source": []
  },
  {
   "cell_type": "code",
   "execution_count": null,
   "metadata": {},
   "outputs": [],
   "source": []
  },
  {
   "cell_type": "code",
   "execution_count": null,
   "metadata": {},
   "outputs": [],
   "source": []
  },
  {
   "cell_type": "code",
   "execution_count": null,
   "metadata": {},
   "outputs": [],
   "source": []
  }
 ],
 "metadata": {
  "kaggle": {
   "accelerator": "gpu",
   "dataSources": [
    {
     "datasetId": 7677340,
     "sourceId": 12188742,
     "sourceType": "datasetVersion"
    }
   ],
   "dockerImageVersionId": 31040,
   "isGpuEnabled": true,
   "isInternetEnabled": true,
   "language": "python",
   "sourceType": "notebook"
  },
  "kernelspec": {
   "display_name": "Python 3",
   "language": "python",
   "name": "python3"
  },
  "language_info": {
   "codemirror_mode": {
    "name": "ipython",
    "version": 3
   },
   "file_extension": ".py",
   "mimetype": "text/x-python",
   "name": "python",
   "nbconvert_exporter": "python",
   "pygments_lexer": "ipython3",
   "version": "3.9.6"
  }
 },
 "nbformat": 4,
 "nbformat_minor": 4
}
